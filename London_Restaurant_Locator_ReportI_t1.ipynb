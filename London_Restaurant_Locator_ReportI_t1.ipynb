{
 "cells": [
  {
   "cell_type": "markdown",
   "metadata": {},
   "source": [
    "<html><img src=\"Dataset/london1.jpg\",width=100%,height=100%></html>"
   ]
  },
  {
   "cell_type": "markdown",
   "metadata": {},
   "source": [
    " # LONDON NEW INDIAN RESTAURANT LOCATOR"
   ]
  },
  {
   "cell_type": "markdown",
   "metadata": {},
   "source": [
    "## A. Introduction"
   ]
  },
  {
   "cell_type": "markdown",
   "metadata": {},
   "source": [
    "## Description of the business problem"
   ]
  },
  {
   "cell_type": "markdown",
   "metadata": {},
   "source": [
    "This project will try to find an optimal location for an Indian restaurant in U.K"
   ]
  },
  {
   "cell_type": "markdown",
   "metadata": {},
   "source": [
    "### Target Audience:"
   ]
  },
  {
   "cell_type": "markdown",
   "metadata": {},
   "source": [
    "This proposal is for entrepreuners and investors who are interested in setting up an Indian restaurant in U.K The challenge in setting up an restaurant in a multi cultural city like London where competetion and the cost of investment is huge. Selecting a wrong location might bring additional burden to the investor interms of marketing expense. So it's paramount in selecting a right location to succeed in this business."
   ]
  },
  {
   "cell_type": "markdown",
   "metadata": {},
   "source": [
    "### Why London?"
   ]
  },
  {
   "cell_type": "markdown",
   "metadata": {},
   "source": [
    "London is the capital and largest city of both England and the United Kingdom. London is considered to be one of the world's most important global cities and has been termed the world's most investment friendly, most popular for work, and the most vegetarian friendly city in the world.  London has a diverse range of people and cultures, and more than 300 languages are spoken in the region. It has a strong Indian population which is growing every year. It is the most-visited city as measured by international arrivals with considerable amount of Indian tourists. It'll be an excellent investment opportunity with growing demand for good restaurants for the indian migrants as well as the tourists."
   ]
  },
  {
   "cell_type": "markdown",
   "metadata": {},
   "source": [
    "### Proposed Solution:"
   ]
  },
  {
   "cell_type": "markdown",
   "metadata": {},
   "source": [
    "Since there are lots of restaurants in London we will try to detect **locations that are not already crowded with restaurants**. We are also particularly interested in **areas with no or less number of Indian restaurants in vicinity**. We would also prefer locations **as close to city center as possible**."
   ]
  },
  {
   "cell_type": "markdown",
   "metadata": {},
   "source": [
    "## DATA"
   ]
  },
  {
   "cell_type": "markdown",
   "metadata": {},
   "source": [
    "Based on definition of our problem, factors that will influence our decission are:\n",
    "* number of existing restaurants in the neighborhood (any type of restaurant)\n",
    "* number of and distance to Indian restaurants in the neighborhood, if any\n",
    "* distance of neighborhood from city center\n",
    "\n",
    "We decided to use regularly spaced grid of locations, centered around city center, to define the neighborhoods.\n",
    "\n",
    "Following data sources will be needed to extract the required information:\n",
    "\n",
    "* centers of candidate areas will be generated algorithmically and approximate addresses of centers of those areas will be obtained using either **Google Maps API reverse geocoding**\n",
    "   or **Geopy Geocoders package**\n",
    "* number of restaurants and their type and location in every neighborhood will be obtained using **Foursquare API**\n",
    "* coordinate of London center will be obtained using **Geopy geocoders** of well known London location\n",
    "* Number of Indian restaurats in the vicinity will be extracted from the **Foursquare API** \n",
    "* The data that's extracted above will consist of the geographical locations of the area and the restaurants.\n",
    "\n",
    "\n",
    "Data will be used in the folowing scenarios:\n",
    "* Will be used to populate the density of all restaurants and Indian restaurants from the extracted data.\n",
    "* To identify and areas which is not very much crowded and with low competetion\n",
    "* To calculate the distances between competing restaurants."
   ]
  },
  {
   "cell_type": "markdown",
   "metadata": {},
   "source": [
    "## Methodology"
   ]
  },
  {
   "cell_type": "markdown",
   "metadata": {},
   "source": [
    "To detect areas of London that have low restaurant density, particularly those with low number of Indian restaurants. The Indian population of london has been concentrated on the outer areas of london where most of the Indian restaurants are located.\n"
   ]
  },
  {
   "cell_type": "markdown",
   "metadata": {},
   "source": [
    "<html><img src=\"Dataset/ind_pop1.png\",width=60%,height=60%></html>"
   ]
  },
  {
   "cell_type": "markdown",
   "metadata": {},
   "source": [
    "                                          Fig.1 - Indian Population in London."
   ]
  },
  {
   "cell_type": "markdown",
   "metadata": {},
   "source": [
    "The focus area will the towards the center of the city where the tourists attractions are more with less number of Indian restaurants compared to the other parts.\n",
    "\n",
    "I have collected the required **data: location and type (category) of every restaurant within 6km from London center** (City of London). I have also **identified Indian restaurants** (according to Foursquare categorization).\n",
    "\n",
    "My analysis will be calculation and exploration of '**restaurant density**' across different areas of London - I will use **heatmaps** to identify a few promising areas close to center with low number of restaurants in general (*and* no Indian restaurants in vicinity) and focus my attention on those areas.\n",
    "\n",
    "Finally i will focus on most promising areas and within those create **clusters of locations that meet some basic requirements**: I will take into consideration locations with **no more than two restaurants in radius of 250 meters**, and we want locations **without Indian restaurants in radius of 400 meters**. I will present map of all such locations but also create clusters (using **k-means clustering**) of those locations to identify general zones / neighborhoods / addresses which should be a starting point for final 'street level' exploration and search for optimal venue location by stakeholders.\n",
    "\n",
    "I used python folium library to visualize geographic details of London and its boroughs and I created a map of London with details of the restaurants superimposed on top. I used latitude and longitude values to get the visual as below:"
   ]
  },
  {
   "cell_type": "markdown",
   "metadata": {},
   "source": [
    "<html><img src=\"Dataset/londn_restaurants_map.jpg\",width=100%,height=100%></html>"
   ]
  },
  {
   "cell_type": "markdown",
   "metadata": {},
   "source": [
    "                                    Fig.2 - Restaurants in London."
   ]
  },
  {
   "cell_type": "markdown",
   "metadata": {},
   "source": [
    "I utilized the Foursquare API to explore the the number of restaurants available from a radius of 300m from center of London. I limited the search to food category to retrieve the results of the restaurants and its latitude and longitude. The sample list of data is mentioned below:"
   ]
  },
  {
   "cell_type": "markdown",
   "metadata": {},
   "source": [
    "<html><img src=\"Dataset/restaurant_list.jpg\",width=100%,height=100%></html>"
   ]
  },
  {
   "cell_type": "markdown",
   "metadata": {},
   "source": [
    "                                        Fig.3 - List of Restaurants retrieved."
   ]
  },
  {
   "cell_type": "markdown",
   "metadata": {},
   "source": [
    "In total there were 2616 restaurants retreived and among them were 197 Indian restaurants. I then used heatmaps from Folium to visualize the density of the restaurants in the selected radius from the center of London."
   ]
  },
  {
   "cell_type": "markdown",
   "metadata": {},
   "source": [
    "<html><<img src=\"Dataset/heat_map_1.jpg\",width=100%,height=100%></html>"
   ]
  },
  {
   "cell_type": "markdown",
   "metadata": {},
   "source": [
    "                                        Fig.4 - Density of all Restaurants from center of London."
   ]
  },
  {
   "cell_type": "markdown",
   "metadata": {},
   "source": [
    "The density of Indian restaurants from the center of london is mentioned below"
   ]
  },
  {
   "cell_type": "markdown",
   "metadata": {},
   "source": [
    "<html><img src=\"Dataset/heat_map_2.jpg\",width=100%,height=100%></html>"
   ]
  },
  {
   "cell_type": "markdown",
   "metadata": {},
   "source": [
    "                                Fig.5 - Density of Indian Restaurants from center of London."
   ]
  },
  {
   "cell_type": "markdown",
   "metadata": {},
   "source": [
    "From the above maps it's observed from Fig-2 that most of the restaurants are scattered on the north side of the city center and the density of the restaurants is more over there after observing the heat map. The City of London which has been marked as the center and it's northern areas has been occupied majorly by administrative offices with less number of residential population. The western part has a major tourist attaction but is overcrowded with restaurants already. Our focus is going to be the southern part of the center of london across the thames river which has a good residential population along with tourist attactions. \n",
    "\n",
    "Further analysis will narrow down tp the **London Borough of Southwark** the area across the thames river from **Walworth** to **Bermondsey**."
   ]
  },
  {
   "cell_type": "markdown",
   "metadata": {},
   "source": [
    "### London Borough of Southwark\n"
   ]
  },
  {
   "cell_type": "markdown",
   "metadata": {},
   "source": [
    "The London Borough of Southwark in South London, England forms part of Inner London and is connected by bridges across the River Thames to the City of London. The part of the South Bank within the borough is home to London Bridge terminus station and the attractions of The Shard, Tate Modern, Shakespeare's Globe Theatre, and Borough Market that are the largest of the venues in Southwark to draw domestic and international tourism. Dulwich is home to the Dulwich Picture Gallery and the Imperial War Museum is in Elephant and Castle.\n",
    "\n",
    "Popular with tourists, booming and trendy, relatively close to city center and well connected, the borough appear to justify further analysis.\n",
    "\n",
    "Now the i'll further narrow the region of interest, which will include low-restaurant-count parts of Walworth and Bermondsey closest to the center of London."
   ]
  },
  {
   "cell_type": "markdown",
   "metadata": {},
   "source": [
    "<html><img src=\"Dataset/heat_map_3.jpg\",width=100%,height=100%></html>"
   ]
  },
  {
   "cell_type": "markdown",
   "metadata": {},
   "source": [
    "                                        Fig.6 - Further narrowing the area for analysis."
   ]
  },
  {
   "cell_type": "markdown",
   "metadata": {},
   "source": [
    "Our analysis will focus further more on the vaccant area with few restaurants as displayed in the above map. now claculate the number of restaurants in the vicinity and it's distance to the Indian restaurants. The result of which displays a part of the sample data mentioned below."
   ]
  },
  {
   "cell_type": "markdown",
   "metadata": {},
   "source": [
    "<html><img src=\"Dataset/nearby_restaurants.jpg\",width=100%,height=100%></html>"
   ]
  },
  {
   "cell_type": "markdown",
   "metadata": {},
   "source": [
    "                                        Fig.7 - Count of nearby restaurants."
   ]
  },
  {
   "cell_type": "markdown",
   "metadata": {},
   "source": [
    "Now further reduce the location search to 250m and a new criteria of no Indian restaurants in a radius of 400m. The results is displayed below.\n"
   ]
  },
  {
   "cell_type": "markdown",
   "metadata": {},
   "source": [
    "<html><img src=\"Dataset/heat_map_4.jpg\",width=100%,height=100%></html>"
   ]
  },
  {
   "cell_type": "markdown",
   "metadata": {},
   "source": [
    "                                        Fig.8 - New location search results."
   ]
  },
  {
   "cell_type": "markdown",
   "metadata": {},
   "source": [
    "The locations above are fairly close to center of London, and that each of those locations has no more than two restaurants in radius of 250m, and no Indian restaurant closer than 400m. Any of those locations is a potential candidate for a new Indian restaurant, at least based on nearby competition.\n",
    "\n",
    "We have some common venue in boroughs containing good locations. I used unsupervised learning K-means algorithm to cluster the borough. K-Means algorithm is one of the most common cluster method of unsupervised learning. I used 15 clusters to give adequate choice to the stakeholders to choose from the results which is displayed below.\n"
   ]
  },
  {
   "cell_type": "markdown",
   "metadata": {},
   "source": [
    "<html><img src=\"Dataset/heat_map_5.jpg\",width=100%,height=100%></html>"
   ]
  },
  {
   "cell_type": "markdown",
   "metadata": {},
   "source": [
    "                                        Fig.9 - Cluster results."
   ]
  },
  {
   "cell_type": "markdown",
   "metadata": {},
   "source": [
    "Zooming on the areas in Walworth displayed below."
   ]
  },
  {
   "cell_type": "markdown",
   "metadata": {},
   "source": [
    "<html><img src=\"Dataset/heat_map_6.jpg\",width=100%,height=100%></html>"
   ]
  },
  {
   "cell_type": "markdown",
   "metadata": {},
   "source": [
    "                                        Fig.10 - Cluster results around Walworth."
   ]
  },
  {
   "cell_type": "markdown",
   "metadata": {},
   "source": [
    "Zooming on the areas in Bermondsey displayed below."
   ]
  },
  {
   "cell_type": "markdown",
   "metadata": {},
   "source": [
    "<html><img src=\"Dataset/heat_map_7.jpg\",width=100%,height=100%></html>"
   ]
  },
  {
   "cell_type": "markdown",
   "metadata": {},
   "source": [
    "                                        Fig.11 - Cluster results around Bermondsey."
   ]
  },
  {
   "cell_type": "markdown",
   "metadata": {},
   "source": [
    "## Result:"
   ]
  },
  {
   "cell_type": "markdown",
   "metadata": {},
   "source": [
    " **Final results on the recomended location based on the finding from the cluster analysis.** \n",
    "* Stevenson Crescent, Ledbury Estate, South Bermondsey Borough of Southwark, SE16 3EN => 3.7km from City of London\n",
    "* Penry Street, Ledbury Estate, Walworth Borough of Southwark, SE17 => 3.0km from City of London\n",
    "* Granary Road, Globe Town, Whitechapel Borough of Tower Hamlets, E1 5DF => 2.2km from City of London\n",
    "* Bermondsey Wall East, Bermondsey Borough of Southwark, SE16 4UA => 2.5km from City of London\n",
    "* The Queens Walk Borough of Southwark, SE1 9AE      => 1.2km from City of London\n",
    "* Michael Faraday Primary School, Hopwood Road, Walworth Borough of Southwark, SE17 => 3.5km from City of London\n",
    "* Polperro Mews Borough of Lambeth, SE11 4TY         => 2.7km from City of London\n",
    "* Albion Primary School, Clack Street, Canada Water Borough of Southwark, SE16 7JA => 3.4km from City of London\n",
    "* Waite Street, Trafalgar Avenue, Ledbury Estate, Peckham Borough of Southwark, SE15 => 3.7km from City of London\n",
    "* 4, Henshaw Street, Walworth Borough of Southwark, SE17 => 2.6km from City of London\n",
    "* Shadwell Basin, Monza Street, Shadwell Borough of Tower Hamlets, E1W 3SS => 2.8km from City of London\n",
    "* Southwark Park Estate, Southwark Park Road, Ledbury Estate, Bermondsey Borough of Southwark, SE16 2HA => 3.5km from City of London\n",
    "* 70-90, Woolstaplers Way, Ledbury Estate, Bermondsey Borough of Southwark, SE16 3UT => 2.9km from City of London\n",
    "* Walworth Garden, 206, Manor Place, Elephant and Castle Borough of Southwark, SE17 3BN => 3.2km from City of London\n",
    "* Alphabeta, Finsbury Square, Saint Lukes Borough of Islington, EC2A 1DX => 0.8km from City of London"
   ]
  },
  {
   "cell_type": "markdown",
   "metadata": {},
   "source": [
    "<html><img src=\"Dataset/heat_map_8.jpg\",width=100%,height=100%></html>"
   ]
  },
  {
   "cell_type": "markdown",
   "metadata": {},
   "source": [
    "                                        Fig 12 - selected zones for new Indian restaurant"
   ]
  },
  {
   "cell_type": "markdown",
   "metadata": {},
   "source": [
    "## Discussion"
   ]
  },
  {
   "cell_type": "markdown",
   "metadata": {},
   "source": [
    "The analysis shows that although there is a great number of restaurants in cnter of London, there are pockets of low restaurant density fairly close to city center. Highest concentration of restaurants was detected north and west from City of London, so I focused my attention to areas south, south-east, corresponding to borough of Southwark. Borough of Southwark was was chosen which offer a combination of popularity among tourists, closeness to city center, strong socio-economic dynamics *and* a number of pockets of low restaurant density.\n",
    "\n",
    "After directing my attention to this more narrow area of interest (covering approx. 5x5km south-east from City of London) I first created a dense grid of location candidates (spaced 100m appart); those locations were then filtered so that those with more than two restaurants in radius of 250m and those with an Indian restaurant closer than 400m were removed.\n",
    "\n",
    "Those location candidates were then clustered to create zones of interest which contain greatest number of location candidates. Addresses of centers of those zones were also generated using reverse geocoding to be used as markers/starting points.\n",
    "\n",
    "Result of all this is 15 zones containing largest number of potential new restaurant locations based on number of and distance to existing venues - both restaurants in general and Indian restaurants particularly. I ended the analysis by visualizing the data and clustering information on London map."
   ]
  },
  {
   "cell_type": "markdown",
   "metadata": {},
   "source": [
    "## Conclusion <a name=\"conclusion\"></a>"
   ]
  },
  {
   "cell_type": "markdown",
   "metadata": {},
   "source": [
    "Purpose of this project was to identify London areas close to center with low number of restaurants (particularly Indlian restaurants) in order to aid stakeholders in narrowing down the search for optimal location for a new Indian restaurant. By calculating restaurant density distribution from Foursquare data I have first identified borough Southwark that justify further analysis , and then generated extensive collection of locations which satisfy some basic requirements regarding existing nearby restaurants. Clustering of those locations was then performed in order to create major zones of interest (containing greatest number of potential locations) and addresses of those zone centers were created to be used as starting points for final exploration by stakeholders.\n",
    "\n",
    "Final decission on optimal restaurant location will be made by stakeholders based on specific characteristics of neighborhoods and locations in every recommended zone, taking into consideration additional factors like attractiveness of each location (proximity to park or water), levels of noise / proximity to major roads, real estate availability, prices, social and economic dynamics of every neighborhood etc.\n"
   ]
  },
  {
   "cell_type": "markdown",
   "metadata": {},
   "source": [
    "## References"
   ]
  },
  {
   "cell_type": "markdown",
   "metadata": {},
   "source": [
    "<a href=\"https://en.wikipedia.org/wiki/London\">1. London - wikipedia</a>\n",
    "\n",
    "<a href=\"https://en.wikipedia.org/wiki/Ethnic_groups_in_London\">2. Ethnic groups in London - wikipedia</a>\n",
    "\n",
    "<a href=\"https://developer.foursquare.com/\">3. Foursquare API</a>\n",
    "\n",
    "<a href=\"https://www.google.com/maps/\">4. Google Map</a>\n"
   ]
  },
  {
   "cell_type": "markdown",
   "metadata": {},
   "source": [
    "Thanks and Regards,\n",
    "\n",
    "M.Shajahan Gani"
   ]
  }
 ],
 "metadata": {
  "kernelspec": {
   "display_name": "Python 3",
   "language": "python",
   "name": "python3"
  },
  "language_info": {
   "codemirror_mode": {
    "name": "ipython",
    "version": 3
   },
   "file_extension": ".py",
   "mimetype": "text/x-python",
   "name": "python",
   "nbconvert_exporter": "python",
   "pygments_lexer": "ipython3",
   "version": "3.6.7"
  }
 },
 "nbformat": 4,
 "nbformat_minor": 2
}
