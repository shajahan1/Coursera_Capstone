{
 "cells": [
  {
   "cell_type": "markdown",
   "metadata": {},
   "source": [
    "# A. Introduction"
   ]
  },
  {
   "cell_type": "markdown",
   "metadata": {},
   "source": [
    "## Description of the business problem"
   ]
  },
  {
   "cell_type": "markdown",
   "metadata": {},
   "source": [
    "This project will try to find an optimal location for an Indian restaurant in U.K"
   ]
  },
  {
   "cell_type": "markdown",
   "metadata": {},
   "source": [
    "### Target Audience:"
   ]
  },
  {
   "cell_type": "markdown",
   "metadata": {},
   "source": [
    "This proposal is for entrepreuners and investors who are interested in setting up an Indian restaurant in U.K The challenge in setting up an restaurant in a multi cultural city like London where competetion and the cost of investment is huge. Selecting a wrong location might bring additional burden to the investor interms of marketing expense. So it's paramount in selecting a right location to succeed in this business."
   ]
  },
  {
   "cell_type": "markdown",
   "metadata": {},
   "source": [
    "### Why London?"
   ]
  },
  {
   "cell_type": "markdown",
   "metadata": {},
   "source": [
    "London is the capital and largest city of both England and the United Kingdom. London is considered to be one of the world's most important global cities and has been termed the world's most investment friendly, most popular for work, and the most vegetarian friendly city in the world.  London has a diverse range of people and cultures, and more than 300 languages are spoken in the region. It has a strong Indian population which is growing every year. It is the most-visited city as measured by international arrivals with considerable amount of Indian tourists. It'll be an excellent investment opportunity with growing demand for good restaurants for the indian migrants as well as the tourists."
   ]
  },
  {
   "cell_type": "markdown",
   "metadata": {},
   "source": [
    "### Proposed Solution:"
   ]
  },
  {
   "cell_type": "markdown",
   "metadata": {},
   "source": [
    "Since there are lots of restaurants in London we will try to detect **locations that are not already crowded with restaurants**. We are also particularly interested in **areas with no or less number of Indian restaurants in vicinity**. We would also prefer locations **as close to city center as possible**."
   ]
  },
  {
   "cell_type": "markdown",
   "metadata": {},
   "source": [
    "## DATA"
   ]
  },
  {
   "cell_type": "markdown",
   "metadata": {},
   "source": [
    "Based on definition of our problem, factors that will influence our decission are:\n",
    "* number of existing restaurants in the neighborhood (any type of restaurant)\n",
    "* number of and distance to Indian restaurants in the neighborhood, if any\n",
    "* distance of neighborhood from city center\n",
    "\n",
    "We decided to use regularly spaced grid of locations, centered around city center, to define the neighborhoods.\n",
    "\n",
    "Following data sources will be needed to extract the required information:\n",
    "\n",
    "* centers of candidate areas will be generated algorithmically and approximate addresses of centers of those areas will be obtained using either **Google Maps API reverse geocoding**\n",
    "   or **Geopy Geocoders package**\n",
    "* number of restaurants and their type and location in every neighborhood will be obtained using **Foursquare API**\n",
    "* coordinate of London center will be obtained using **Geopy geocoders** of well known London location\n",
    "* Number of Indian restaurats in the vicinity will be extracted from the **Foursquare API** \n",
    "* The data that's extracted above will consist of the geographical locations of the area and the restaurants.\n",
    "\n",
    "\n",
    "Data will be used in the folowing scenarios:\n",
    "* Will be used to populate the density of all restaurants and Indian restaurants from the extracted data.\n",
    "* To identify and areas which is not very much crowded and with low competetion\n",
    "* To calculate the distances between competing restaurants."
   ]
  },
  {
   "cell_type": "code",
   "execution_count": null,
   "metadata": {},
   "outputs": [],
   "source": []
  }
 ],
 "metadata": {
  "kernelspec": {
   "display_name": "Python 3",
   "language": "python",
   "name": "python3"
  },
  "language_info": {
   "codemirror_mode": {
    "name": "ipython",
    "version": 3
   },
   "file_extension": ".py",
   "mimetype": "text/x-python",
   "name": "python",
   "nbconvert_exporter": "python",
   "pygments_lexer": "ipython3",
   "version": "3.6.7"
  }
 },
 "nbformat": 4,
 "nbformat_minor": 2
}
