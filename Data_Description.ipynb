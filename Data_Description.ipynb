{
 "cells": [
  {
   "cell_type": "markdown",
   "metadata": {},
   "source": [
    "# A. Introduction"
   ]
  },
  {
   "cell_type": "markdown",
   "metadata": {},
   "source": [
    "## Description of the business problem"
   ]
  },
  {
   "cell_type": "markdown",
   "metadata": {},
   "source": [
    " In this project we will try to find an optimal location for a restaurant. Specifically, this report will be targeted to stakeholders interested in opening an Indian restaurant in London.\n",
    "\n",
    "London is the capital and largest city of both England and the United Kingdom. London is considered to be one of the world's most important global citiesand has been termed the world's most investment friendly, most popular for work, and the most vegetarian friendly city in the world. It is one of the largest financial centres and has either the fifth or sixth largest metropolitan area GDP. London has a diverse range of people and cultures, and more than 300 languages are spoken in the region. It has a strong Indian population which is growing every year. It is the most-visited city as measured by international arrivals with considerable amount of Indian tourists. It'll be an excellent investment opportunity with growing demand for good restaurants for the indian migrants as well as the tourists.\n",
    "\n",
    "Since there are lots of restaurants in London we will try to detect **locations that are not already crowded with restaurants**. We are also particularly interested in **areas with no or less number of Indian restaurants in vicinity**. We would also prefer locations **as close to city center as possible**, assuming that first two conditions are met.\n",
    "\n",
    "We will use our data science powers to generate a few most promissing neighborhoods based on this criteria. Advantages of each area will then be clearly expressed so that best possible final location can be chosen by stakeholders."
   ]
  },
  {
   "cell_type": "markdown",
   "metadata": {},
   "source": [
    "## B. Data"
   ]
  },
  {
   "cell_type": "markdown",
   "metadata": {},
   "source": [
    "Based on definition of our problem, factors that will influence our decission are:\n",
    "* number of existing restaurants in the neighborhood (any type of restaurant)\n",
    "* number of and distance to Indian restaurants in the neighborhood, if any\n",
    "* distance of neighborhood from city center\n",
    "\n",
    "We decided to use regularly spaced grid of locations, centered around city center, to define our neighborhoods.\n",
    "\n",
    "Following data sources will be needed to extract/generate the required information:\n",
    "\n",
    "* The dataset of London is downloaded from london borough profiles website https://data.london.gov.uk/dataset/london-borough-profiles\n",
    "* centers of candidate areas will be generated algorithmically and approximate addresses of centers of those areas will be obtained using either **Google Maps API reverse geocoding**\n",
    "   or **Geopy Geocoders package**\n",
    "* number of restaurants and their type and location in every neighborhood will be obtained using **Foursquare API**\n",
    "* coordinate of London center will be obtained using **Geopy geocoders** of well known London location"
   ]
  },
  {
   "cell_type": "code",
   "execution_count": null,
   "metadata": {},
   "outputs": [],
   "source": []
  }
 ],
 "metadata": {
  "kernelspec": {
   "display_name": "Python 3",
   "language": "python",
   "name": "python3"
  },
  "language_info": {
   "codemirror_mode": {
    "name": "ipython",
    "version": 3
   },
   "file_extension": ".py",
   "mimetype": "text/x-python",
   "name": "python",
   "nbconvert_exporter": "python",
   "pygments_lexer": "ipython3",
   "version": "3.6.7"
  }
 },
 "nbformat": 4,
 "nbformat_minor": 2
}
